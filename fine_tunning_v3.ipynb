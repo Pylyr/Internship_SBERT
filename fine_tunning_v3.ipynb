{
 "cells": [
  {
   "cell_type": "code",
   "execution_count": 15,
   "metadata": {},
   "outputs": [],
   "source": [
    "import torch\n",
    "from transformers import (AutoTokenizer, AutoConfig,\n",
    "AutoModelForSequenceClassification)\n",
    "from transformers import Trainer, TrainingArguments\n",
    "from datasets import Dataset, DatasetDict\n",
    "import numpy as np\n",
    "import pandas as pd\n",
    "from scipy.special import expit as sigmoid\n",
    "from sklearn.metrics import classification_report\n",
    "import random\n",
    "from collections import defaultdict\n",
    "from sentence_transformers import SentenceTransformer, SentencesDataset\n",
    "from sentence_transformers.losses import TripletLoss\n",
    "from sentence_transformers.readers import LabelSentenceReader, InputExample\n",
    "from torch.utils.data import DataLoader"
   ]
  },
  {
   "cell_type": "code",
   "execution_count": 16,
   "metadata": {},
   "outputs": [],
   "source": [
    "df = pd.read_csv('processed-files/df.csv')\n",
    "labels = np.load('processed-files/new_labels.npy', allow_pickle = True)"
   ]
  },
  {
   "cell_type": "code",
   "execution_count": 17,
   "metadata": {},
   "outputs": [],
   "source": [
    "labels = np.load('processed-files/new_labels.npy', allow_pickle = True)\n",
    "labels = np.unique(labels, return_inverse=True)[1]\n",
    "df['label'] = torch.tensor(labels, dtype=torch.float)"
   ]
  },
  {
   "cell_type": "code",
   "execution_count": 18,
   "metadata": {},
   "outputs": [],
   "source": [
    "df = df.sample(frac=0.05, random_state=42)"
   ]
  },
  {
   "cell_type": "code",
   "execution_count": 19,
   "metadata": {},
   "outputs": [
    {
     "data": {
      "text/html": [
       "<div>\n",
       "<style scoped>\n",
       "    .dataframe tbody tr th:only-of-type {\n",
       "        vertical-align: middle;\n",
       "    }\n",
       "\n",
       "    .dataframe tbody tr th {\n",
       "        vertical-align: top;\n",
       "    }\n",
       "\n",
       "    .dataframe thead th {\n",
       "        text-align: right;\n",
       "    }\n",
       "</style>\n",
       "<table border=\"1\" class=\"dataframe\">\n",
       "  <thead>\n",
       "    <tr style=\"text-align: right;\">\n",
       "      <th></th>\n",
       "      <th>Word A</th>\n",
       "      <th>Word B</th>\n",
       "      <th>Relation</th>\n",
       "      <th>Sentence</th>\n",
       "      <th>label</th>\n",
       "    </tr>\n",
       "  </thead>\n",
       "  <tbody>\n",
       "    <tr>\n",
       "      <th>1426106</th>\n",
       "      <td>simulation</td>\n",
       "      <td>verification</td>\n",
       "      <td>20</td>\n",
       "      <td>For verification, system-level finite element ...</td>\n",
       "      <td>12.0</td>\n",
       "    </tr>\n",
       "    <tr>\n",
       "      <th>1391092</th>\n",
       "      <td>parameter</td>\n",
       "      <td>voltage</td>\n",
       "      <td>15</td>\n",
       "      <td>When the bias voltage is chosen to be a contro...</td>\n",
       "      <td>0.0</td>\n",
       "    </tr>\n",
       "    <tr>\n",
       "      <th>1152842</th>\n",
       "      <td>complexity</td>\n",
       "      <td>process</td>\n",
       "      <td>3</td>\n",
       "      <td>The solution is compared with the other approa...</td>\n",
       "      <td>2.0</td>\n",
       "    </tr>\n",
       "    <tr>\n",
       "      <th>1025554</th>\n",
       "      <td>graph</td>\n",
       "      <td>minimum spanning tree</td>\n",
       "      <td>12</td>\n",
       "      <td>We propose such an inference algorithm for fir...</td>\n",
       "      <td>9.0</td>\n",
       "    </tr>\n",
       "    <tr>\n",
       "      <th>111566</th>\n",
       "      <td>noise</td>\n",
       "      <td>signal</td>\n",
       "      <td>12</td>\n",
       "      <td>For incident photons in the 800 to 1300 nm ran...</td>\n",
       "      <td>7.0</td>\n",
       "    </tr>\n",
       "    <tr>\n",
       "      <th>...</th>\n",
       "      <td>...</td>\n",
       "      <td>...</td>\n",
       "      <td>...</td>\n",
       "      <td>...</td>\n",
       "      <td>...</td>\n",
       "    </tr>\n",
       "    <tr>\n",
       "      <th>398260</th>\n",
       "      <td>optimization problem</td>\n",
       "      <td>pso</td>\n",
       "      <td>28</td>\n",
       "      <td>To this end, we develop a mixed-integer nonlin...</td>\n",
       "      <td>17.0</td>\n",
       "    </tr>\n",
       "    <tr>\n",
       "      <th>1316580</th>\n",
       "      <td>computer</td>\n",
       "      <td>monitoring</td>\n",
       "      <td>0</td>\n",
       "      <td>We employed Intel Edison and Raspberry Pi as F...</td>\n",
       "      <td>0.0</td>\n",
       "    </tr>\n",
       "    <tr>\n",
       "      <th>45006</th>\n",
       "      <td>tracking</td>\n",
       "      <td>tracking performance</td>\n",
       "      <td>8</td>\n",
       "      <td>The PS2 design has evolved incrementally based...</td>\n",
       "      <td>4.0</td>\n",
       "    </tr>\n",
       "    <tr>\n",
       "      <th>685149</th>\n",
       "      <td>id</td>\n",
       "      <td>neural network</td>\n",
       "      <td>28</td>\n",
       "      <td>In this paper, we propose Attention and CL los...</td>\n",
       "      <td>18.0</td>\n",
       "    </tr>\n",
       "    <tr>\n",
       "      <th>679429</th>\n",
       "      <td>id</td>\n",
       "      <td>machine learning</td>\n",
       "      <td>28</td>\n",
       "      <td>Five machine learning algorithms are used on t...</td>\n",
       "      <td>18.0</td>\n",
       "    </tr>\n",
       "  </tbody>\n",
       "</table>\n",
       "<p>72012 rows × 5 columns</p>\n",
       "</div>"
      ],
      "text/plain": [
       "                       Word A                 Word B  Relation  \\\n",
       "1426106            simulation           verification        20   \n",
       "1391092             parameter                voltage        15   \n",
       "1152842            complexity                process         3   \n",
       "1025554                 graph  minimum spanning tree        12   \n",
       "111566                  noise                 signal        12   \n",
       "...                       ...                    ...       ...   \n",
       "398260   optimization problem                    pso        28   \n",
       "1316580              computer             monitoring         0   \n",
       "45006                tracking   tracking performance         8   \n",
       "685149                     id         neural network        28   \n",
       "679429                     id       machine learning        28   \n",
       "\n",
       "                                                  Sentence  label  \n",
       "1426106  For verification, system-level finite element ...   12.0  \n",
       "1391092  When the bias voltage is chosen to be a contro...    0.0  \n",
       "1152842  The solution is compared with the other approa...    2.0  \n",
       "1025554  We propose such an inference algorithm for fir...    9.0  \n",
       "111566   For incident photons in the 800 to 1300 nm ran...    7.0  \n",
       "...                                                    ...    ...  \n",
       "398260   To this end, we develop a mixed-integer nonlin...   17.0  \n",
       "1316580  We employed Intel Edison and Raspberry Pi as F...    0.0  \n",
       "45006    The PS2 design has evolved incrementally based...    4.0  \n",
       "685149   In this paper, we propose Attention and CL los...   18.0  \n",
       "679429   Five machine learning algorithms are used on t...   18.0  \n",
       "\n",
       "[72012 rows x 5 columns]"
      ]
     },
     "execution_count": 19,
     "metadata": {},
     "output_type": "execute_result"
    }
   ],
   "source": [
    "df"
   ]
  },
  {
   "cell_type": "code",
   "execution_count": 24,
   "metadata": {},
   "outputs": [],
   "source": [
    "def triplets_from_labeled_dataset(df):\n",
    "    \"\"\"Create triplets from labeled dataset\"\"\"\n",
    "    n_triplets = 10000\n",
    "    triplets = []\n",
    "    while len(triplets) < n_triplets:\n",
    "        # select a random row\n",
    "        row = df.sample(1).iloc[0]\n",
    "        # select 1 row with the same label and 1 row with different label\n",
    "        pos = df[df['label'] == row['label']].sample(1).iloc[0]\n",
    "        neg = df[df['label'] != row['label']].sample(1).iloc[0]\n",
    "        # make sure they are not the same and that this label is not already in the triplets\n",
    "        if (pos['Sentence'] != row['Sentence'] and\n",
    "            (row['Sentence'], pos['Sentence'], neg['Sentence']) not in triplets):\n",
    "           triplets.append(InputExample(texts=[row['Sentence'], pos['Sentence'], neg['Sentence']]))\n",
    "    # convert to dataframe\n",
    "    return triplets\n",
    "    \n",
    "\n",
    "\n"
   ]
  },
  {
   "cell_type": "code",
   "execution_count": 25,
   "metadata": {},
   "outputs": [],
   "source": [
    "sbert_model = SentenceTransformer('paraphrase-MiniLM-L6-v2')\n",
    "triplets = triplets_from_labeled_dataset(df)\n",
    "finetune_data = SentencesDataset(examples=triplets, model=sbert_model)\n",
    "finetune_dataloader = DataLoader(finetune_data, shuffle=True, batch_size=16)\n",
    "\n",
    "# Initialize triplet loss\n",
    "loss = TripletLoss(model=sbert_model)\n",
    "\n"
   ]
  },
  {
   "cell_type": "code",
   "execution_count": 26,
   "metadata": {},
   "outputs": [
    {
     "name": "stderr",
     "output_type": "stream",
     "text": [
      "Iteration: 100%|██████████| 625/625 [1:38:59<00:00,  9.50s/it]\n",
      "Epoch:  25%|██▌       | 1/4 [1:38:59<4:56:57, 5939.11s/it]"
     ]
    }
   ],
   "source": [
    "sbert_model.fit(train_objectives=[(finetune_dataloader, loss)], epochs=4, output_path='sbert_model')"
   ]
  },
  {
   "cell_type": "code",
   "execution_count": null,
   "metadata": {},
   "outputs": [],
   "source": [
    "# save model\n",
    "sbert_model.save('sbert_model')"
   ]
  },
  {
   "cell_type": "code",
   "execution_count": null,
   "metadata": {},
   "outputs": [],
   "source": []
  }
 ],
 "metadata": {
  "kernelspec": {
   "display_name": "Python 3.10.6 64-bit",
   "language": "python",
   "name": "python3"
  },
  "language_info": {
   "codemirror_mode": {
    "name": "ipython",
    "version": 3
   },
   "file_extension": ".py",
   "mimetype": "text/x-python",
   "name": "python",
   "nbconvert_exporter": "python",
   "pygments_lexer": "ipython3",
   "version": "3.10.6"
  },
  "orig_nbformat": 4,
  "vscode": {
   "interpreter": {
    "hash": "31f2aee4e71d21fbe5cf8b01ff0e069b9275f58929596ceb00d14d90e3e16cd6"
   }
  }
 },
 "nbformat": 4,
 "nbformat_minor": 2
}
