{
 "cells": [
  {
   "cell_type": "code",
   "execution_count": 1,
   "metadata": {},
   "outputs": [],
   "source": [
    "import numpy as np\n",
    "import gensim.downloader as api\n",
    "import pandas as pd\n",
    "\n",
    "model = api.load('word2vec-google-news-300')"
   ]
  },
  {
   "cell_type": "code",
   "execution_count": 2,
   "metadata": {},
   "outputs": [
    {
     "name": "stdout",
     "output_type": "stream",
     "text": [
      "(300,)\n"
     ]
    }
   ],
   "source": [
    "v = model['mother']\n",
    "print(v.shape)"
   ]
  },
  {
   "cell_type": "code",
   "execution_count": 2,
   "metadata": {},
   "outputs": [],
   "source": [
    "file = '/users/daychman/Internship_SBERT/files/merged'\n",
    "faulty_indexes = [32384, 32385, 140277, 140278, 351260, 351261, 351263, 351264, 351266, 351267, 351269, 351270, 351272, 351273, 351275, 351276, 579039, 680194, 929676, 929677, 929678, 929679, 929680, 929681, 929682, 929683, 929684, 929685, 929686]\n",
    "\n",
    "df = pd.read_csv(file)\n",
    "word_arr = df[['Word A', 'Word B']].to_numpy()\n",
    "words_corr = np.delete(word_arr, faulty_indexes, axis=0)\n"
   ]
  },
  {
   "cell_type": "code",
   "execution_count": 5,
   "metadata": {},
   "outputs": [],
   "source": [
    "sentences = df['Sentence'].to_numpy()"
   ]
  },
  {
   "cell_type": "code",
   "execution_count": 6,
   "metadata": {},
   "outputs": [],
   "source": [
    "embeddings = np.load('/users/daychman/Internship_SBERT/files/embeddings2.npy')"
   ]
  },
  {
   "cell_type": "code",
   "execution_count": 7,
   "metadata": {},
   "outputs": [],
   "source": [
    "labels = np.load('/users/daychman/Internship_SBERT/files/labels2.npy')"
   ]
  },
  {
   "cell_type": "code",
   "execution_count": 8,
   "metadata": {},
   "outputs": [],
   "source": [
    "concat_embeddigs = []\n",
    "concat_labels = []\n",
    "concat_sentences = []\n",
    "concat_words = []\n",
    "for i in range(len(words_corr)):\n",
    "    word1, word2 = words_corr[i]\n",
    "    try :\n",
    "        vec1 = np.mean(model[word1.split()], axis=0)\n",
    "        vec2 = np.mean(model[word2.split()], axis=0)\n",
    "        concat_embeddigs.append(np.concatenate((np.concatenate((vec1, vec2)), embeddings[i])))\n",
    "        concat_labels.append(labels[i])\n",
    "        concat_sentences.append(sentences[i])\n",
    "        concat_words.append(words_corr[i])\n",
    "    except:\n",
    "        pass\n",
    "\n",
    "concat_embeddigs = np.array(concat_embeddigs)\n",
    "concat_labels = np.array(concat_labels)\n",
    "concat_sentences = np.array(concat_sentences)\n",
    "concat_words = np.array(concat_words)"
   ]
  },
  {
   "cell_type": "code",
   "execution_count": 10,
   "metadata": {},
   "outputs": [],
   "source": [
    "np.save('/users/daychman/Internship_SBERT/files/concat_embeddings', concat_embeddigs)\n",
    "np.save('/users/daychman/Internship_SBERT/files/concat_labels', concat_labels)\n",
    "np.save('/users/daychman/Internship_SBERT/files/concat_sentences.npy', concat_sentences)\n",
    "np.save('/users/daychman/Internship_SBERT/files/concat_words.npy', concat_words)"
   ]
  }
 ],
 "metadata": {
  "kernelspec": {
   "display_name": "Python 3.10.4 64-bit",
   "language": "python",
   "name": "python3"
  },
  "language_info": {
   "codemirror_mode": {
    "name": "ipython",
    "version": 3
   },
   "file_extension": ".py",
   "mimetype": "text/x-python",
   "name": "python",
   "nbconvert_exporter": "python",
   "pygments_lexer": "ipython3",
   "version": "3.5.3"
  },
  "orig_nbformat": 4,
  "vscode": {
   "interpreter": {
    "hash": "31f2aee4e71d21fbe5cf8b01ff0e069b9275f58929596ceb00d14d90e3e16cd6"
   }
  }
 },
 "nbformat": 4,
 "nbformat_minor": 2
}
