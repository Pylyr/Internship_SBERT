{
 "cells": [
  {
   "cell_type": "code",
   "execution_count": null,
   "metadata": {},
   "outputs": [
    {
     "ename": "",
     "evalue": "",
     "output_type": "error",
     "traceback": [
      "\u001b[1;31mFailed to start the Kernel. \n",
      "Unable to start Kernel 'base (Python 3.9.12)' due to connection timeout. \n",
      "View Jupyter <a href='command:jupyter.viewOutput'>log</a> for further details."
     ]
    }
   ],
   "source": [
    "import pandas as pd\n",
    "import numpy as np\n",
    "import tensorflow as tf\n",
    "from tensorflow import keras\n",
    "from tensorflow.keras import layers\n",
    "from sklearn.preprocessing import OneHotEncoder"
   ]
  },
  {
   "cell_type": "code",
   "execution_count": 3,
   "metadata": {},
   "outputs": [],
   "source": [
    "df = pd.read_csv('/tempo/processed-files/df.csv')\n",
    "embedding = np.load('/tempo/processed-files/embeddings.npy') \n",
    "new_labels = np.load('/tempo/processed-files/new_labels.npy', allow_pickle=True)"
   ]
  },
  {
   "cell_type": "code",
   "execution_count": 9,
   "metadata": {},
   "outputs": [],
   "source": [
    "df['label'] = new_labels"
   ]
  },
  {
   "cell_type": "code",
   "execution_count": 52,
   "metadata": {},
   "outputs": [],
   "source": [
    "# labels that share the same relationship group\n",
    "unified_conv_labels = {\n",
    "    0:0, 2:2, 3:2, 4:2, 5:2, 6:2, 7:7, 8:7, 9:7, 10:10, 11:10, 12:10, 13:10, 15:0, 17:17, 19:17, 20:20, 21:21, 22:21, 23:23, 24:23, 25:23, 27:27, 28:27, 29:27, 30:27, 31:27\n",
    "    }"
   ]
  },
  {
   "cell_type": "code",
   "execution_count": 11,
   "metadata": {},
   "outputs": [],
   "source": [
    "# Get 20% of the dataset for training\n",
    "df_train = df.sample(frac=0.2, random_state=0)\n",
    "\n",
    "# unify the labels\n",
    "# df_train['label'] = df_train['Relation'].map(unified_conv_labels)\n",
    "df_train.drop(columns = ['Relation'], inplace=True)\n",
    "df_train['label'] = df_train['label'].astype('category')\n",
    "df_train['label'] = df_train['label'].cat.codes"
   ]
  },
  {
   "cell_type": "code",
   "execution_count": 16,
   "metadata": {},
   "outputs": [
    {
     "data": {
      "text/html": [
       "<div>\n",
       "<style scoped>\n",
       "    .dataframe tbody tr th:only-of-type {\n",
       "        vertical-align: middle;\n",
       "    }\n",
       "\n",
       "    .dataframe tbody tr th {\n",
       "        vertical-align: top;\n",
       "    }\n",
       "\n",
       "    .dataframe thead th {\n",
       "        text-align: right;\n",
       "    }\n",
       "</style>\n",
       "<table border=\"1\" class=\"dataframe\">\n",
       "  <thead>\n",
       "    <tr style=\"text-align: right;\">\n",
       "      <th></th>\n",
       "      <th>Word A</th>\n",
       "      <th>Word B</th>\n",
       "      <th>Sentence</th>\n",
       "      <th>label</th>\n",
       "    </tr>\n",
       "  </thead>\n",
       "  <tbody>\n",
       "    <tr>\n",
       "      <th>1302495</th>\n",
       "      <td>contrast</td>\n",
       "      <td>display</td>\n",
       "      <td>Display technology must offer high dynamic ran...</td>\n",
       "      <td>18</td>\n",
       "    </tr>\n",
       "    <tr>\n",
       "      <th>411558</th>\n",
       "      <td>neural network</td>\n",
       "      <td>neural network model</td>\n",
       "      <td>Third, neural network models are easier to ove...</td>\n",
       "      <td>18</td>\n",
       "    </tr>\n",
       "    <tr>\n",
       "      <th>764933</th>\n",
       "      <td>ab</td>\n",
       "      <td>simulation</td>\n",
       "      <td>We use our simulations to evaluate the torsion...</td>\n",
       "      <td>17</td>\n",
       "    </tr>\n",
       "    <tr>\n",
       "      <th>1342397</th>\n",
       "      <td>knowledge model</td>\n",
       "      <td>ontology</td>\n",
       "      <td>Graph knowledge models and ontologies are very...</td>\n",
       "      <td>0</td>\n",
       "    </tr>\n",
       "    <tr>\n",
       "      <th>828861</th>\n",
       "      <td>parameter</td>\n",
       "      <td>resolution</td>\n",
       "      <td>The haloes are extracted from the OverWhelming...</td>\n",
       "      <td>0</td>\n",
       "    </tr>\n",
       "    <tr>\n",
       "      <th>...</th>\n",
       "      <td>...</td>\n",
       "      <td>...</td>\n",
       "      <td>...</td>\n",
       "      <td>...</td>\n",
       "    </tr>\n",
       "    <tr>\n",
       "      <th>480383</th>\n",
       "      <td>clustering</td>\n",
       "      <td>markov chain</td>\n",
       "      <td>With the present observational data of CMB, Ty...</td>\n",
       "      <td>17</td>\n",
       "    </tr>\n",
       "    <tr>\n",
       "      <th>902118</th>\n",
       "      <td>cnn</td>\n",
       "      <td>transfer learning</td>\n",
       "      <td>Experimental results indicate that transfer le...</td>\n",
       "      <td>18</td>\n",
       "    </tr>\n",
       "    <tr>\n",
       "      <th>299923</th>\n",
       "      <td>objective function</td>\n",
       "      <td>parameter</td>\n",
       "      <td>A penalty on the transformation parameters is ...</td>\n",
       "      <td>0</td>\n",
       "    </tr>\n",
       "    <tr>\n",
       "      <th>911761</th>\n",
       "      <td>annealing</td>\n",
       "      <td>simulated annealing</td>\n",
       "      <td>In a finite trap, we argue using an LDA and si...</td>\n",
       "      <td>17</td>\n",
       "    </tr>\n",
       "    <tr>\n",
       "      <th>643997</th>\n",
       "      <td>authentication</td>\n",
       "      <td>password</td>\n",
       "      <td>Password-based authentication schemes are the ...</td>\n",
       "      <td>17</td>\n",
       "    </tr>\n",
       "  </tbody>\n",
       "</table>\n",
       "<p>288048 rows × 4 columns</p>\n",
       "</div>"
      ],
      "text/plain": [
       "                     Word A                Word B  \\\n",
       "1302495            contrast               display   \n",
       "411558       neural network  neural network model   \n",
       "764933                   ab            simulation   \n",
       "1342397     knowledge model              ontology   \n",
       "828861            parameter            resolution   \n",
       "...                     ...                   ...   \n",
       "480383           clustering          markov chain   \n",
       "902118                  cnn     transfer learning   \n",
       "299923   objective function             parameter   \n",
       "911761            annealing   simulated annealing   \n",
       "643997       authentication              password   \n",
       "\n",
       "                                                  Sentence  label  \n",
       "1302495  Display technology must offer high dynamic ran...     18  \n",
       "411558   Third, neural network models are easier to ove...     18  \n",
       "764933   We use our simulations to evaluate the torsion...     17  \n",
       "1342397  Graph knowledge models and ontologies are very...      0  \n",
       "828861   The haloes are extracted from the OverWhelming...      0  \n",
       "...                                                    ...    ...  \n",
       "480383   With the present observational data of CMB, Ty...     17  \n",
       "902118   Experimental results indicate that transfer le...     18  \n",
       "299923   A penalty on the transformation parameters is ...      0  \n",
       "911761   In a finite trap, we argue using an LDA and si...     17  \n",
       "643997   Password-based authentication schemes are the ...     17  \n",
       "\n",
       "[288048 rows x 4 columns]"
      ]
     },
     "execution_count": 16,
     "metadata": {},
     "output_type": "execute_result"
    }
   ],
   "source": [
    "df_train"
   ]
  },
  {
   "cell_type": "code",
   "execution_count": 17,
   "metadata": {},
   "outputs": [],
   "source": [
    "# unique labels\n",
    "output = len(df_train['label'].unique())"
   ]
  },
  {
   "cell_type": "code",
   "execution_count": 22,
   "metadata": {},
   "outputs": [
    {
     "name": "stdout",
     "output_type": "stream",
     "text": [
      "Epoch 1/50\n",
      "7202/7202 [==============================] - 11s 1ms/step - loss: 1.1330 - accuracy: 0.5971 - val_loss: 1.0789 - val_accuracy: 0.6002\n",
      "Epoch 2/50\n",
      "7202/7202 [==============================] - 10s 1ms/step - loss: 1.0195 - accuracy: 0.6262 - val_loss: 1.0374 - val_accuracy: 0.6217\n",
      "Epoch 3/50\n",
      "7202/7202 [==============================] - 10s 1ms/step - loss: 0.9721 - accuracy: 0.6393 - val_loss: 1.0315 - val_accuracy: 0.6209\n",
      "Epoch 4/50\n",
      "7202/7202 [==============================] - 10s 1ms/step - loss: 0.9382 - accuracy: 0.6493 - val_loss: 1.0242 - val_accuracy: 0.6268\n",
      "Epoch 5/50\n",
      "7202/7202 [==============================] - 10s 1ms/step - loss: 0.9109 - accuracy: 0.6569 - val_loss: 1.0321 - val_accuracy: 0.6257\n",
      "Epoch 6/50\n",
      "7202/7202 [==============================] - 10s 1ms/step - loss: 0.8879 - accuracy: 0.6650 - val_loss: 1.0287 - val_accuracy: 0.6280\n",
      "Epoch 7/50\n",
      "7202/7202 [==============================] - 10s 1ms/step - loss: 0.8681 - accuracy: 0.6707 - val_loss: 1.0418 - val_accuracy: 0.6221\n",
      "Epoch 8/50\n",
      "7202/7202 [==============================] - 10s 1ms/step - loss: 0.8518 - accuracy: 0.6755 - val_loss: 1.0441 - val_accuracy: 0.6224\n",
      "Epoch 9/50\n",
      "7202/7202 [==============================] - 10s 1ms/step - loss: 0.8365 - accuracy: 0.6801 - val_loss: 1.0573 - val_accuracy: 0.6207\n"
     ]
    },
    {
     "data": {
      "text/plain": [
       "<keras.callbacks.History at 0x7fad932fcd60>"
      ]
     },
     "execution_count": 22,
     "metadata": {},
     "output_type": "execute_result"
    }
   ],
   "source": [
    "# Make a sequential model for multi-class classification of the unified labels\n",
    "# The input of the model is the sentence embedding of size 384. The output is the label. The last layer is a softmax layer into one of 27 relations. The loss function is categorical crossentropy.\n",
    "\n",
    "embedding_model = keras.Sequential([\n",
    "        layers.Dense(300, activation='relu', input_shape=(384,)),\n",
    "    ])\n",
    "\n",
    "\n",
    "model = keras.Sequential([\n",
    "    embedding_model,\n",
    "    layers.Dense(output, activation='softmax')\n",
    "])\n",
    "\n",
    "model.compile(\n",
    "    optimizer='adam',\n",
    "    loss='sparse_categorical_crossentropy',\n",
    "    metrics=['accuracy']\n",
    ")\n",
    "\n",
    "# create a callback in case the model stops improving\n",
    "callback = tf.keras.callbacks.EarlyStopping(monitor='val_accuracy', patience=3)\n",
    "\n",
    "model.fit(\n",
    "    embedding[df_train.index],\n",
    "    df_train['label'].to_numpy(),\n",
    "    epochs=50,\n",
    "    batch_size=32,\n",
    "    validation_split=0.2,\n",
    "    callbacks=[callback]\n",
    ")\n"
   ]
  },
  {
   "cell_type": "code",
   "execution_count": 23,
   "metadata": {},
   "outputs": [
    {
     "name": "stdout",
     "output_type": "stream",
     "text": [
      "  159/45008 [..............................] - ETA: 28s "
     ]
    },
    {
     "name": "stderr",
     "output_type": "stream",
     "text": [
      "2022-08-14 14:14:57.440970: W tensorflow/core/framework/cpu_allocator_impl.cc:82] Allocation of 2212208640 exceeds 10% of free system memory.\n"
     ]
    },
    {
     "name": "stdout",
     "output_type": "stream",
     "text": [
      "45008/45008 [==============================] - 31s 695us/step\n"
     ]
    },
    {
     "name": "stderr",
     "output_type": "stream",
     "text": [
      "2022-08-14 14:15:38.127907: W tensorflow/core/framework/cpu_allocator_impl.cc:82] Allocation of 1728288000 exceeds 10% of free system memory.\n"
     ]
    }
   ],
   "source": [
    "# Use the embedding model to get the embeddings of the whole dataset\n",
    "separated_embeddings = embedding_model.predict(embedding)"
   ]
  },
  {
   "cell_type": "code",
   "execution_count": 26,
   "metadata": {},
   "outputs": [],
   "source": [
    "# Save the embeddings\n",
    "np.save('/tempo/processed-files/sep_embeddings.npy', separated_embeddings)"
   ]
  },
  {
   "cell_type": "code",
   "execution_count": null,
   "metadata": {},
   "outputs": [],
   "source": []
  }
 ],
 "metadata": {
  "kernelspec": {
   "display_name": "Python 3.9.12 ('base')",
   "language": "python",
   "name": "python3"
  },
  "language_info": {
   "codemirror_mode": {
    "name": "ipython",
    "version": 3
   },
   "file_extension": ".py",
   "mimetype": "text/x-python",
   "name": "python",
   "nbconvert_exporter": "python",
   "pygments_lexer": "ipython3",
   "version": "3.9.12"
  },
  "orig_nbformat": 4,
  "vscode": {
   "interpreter": {
    "hash": "d075635c49ac9fb9913723b1e0fe7df7567b1c4ee6ede4cef9a7e4fcacf814a5"
   }
  }
 },
 "nbformat": 4,
 "nbformat_minor": 2
}
