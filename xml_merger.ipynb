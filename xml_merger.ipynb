{
 "cells": [
  {
   "cell_type": "code",
   "execution_count": 27,
   "metadata": {},
   "outputs": [
    {
     "name": "stderr",
     "output_type": "stream",
     "text": [
      "  0%|          | 0/14 [00:58<?, ?it/s]\n"
     ]
    }
   ],
   "source": [
    "firstXml = None\n",
    "firstTriples = None\n",
    "\n",
    "xmlTag = \"<?xml version='1.0' encoding='UTF-8'?>\"\n",
    "triples = \"<triples>\"\n",
    "triplesEnd = \"</triples>\"\n",
    "\n",
    "with open('/tempo/merged.xml', 'r') as f:\n",
    "    with open('/tempo/merged_clean.xml', 'w') as f_clean:\n",
    "        for line in f:\n",
    "            if xmlTag in line:\n",
    "                if firstXml is None:\n",
    "                    firstXml = True\n",
    "                else:\n",
    "                    line = line.replace(xmlTag, '')\n",
    "            if triples in line:\n",
    "                if firstTriples is None:\n",
    "                    firstTriples = True\n",
    "                else:\n",
    "                    line = line.replace(triples, '')\n",
    "            if triplesEnd in line:\n",
    "                line = line.replace(triplesEnd, '')\n",
    "            f_clean.write(line)\n",
    "\n",
    "\n",
    "        f_clean.write(\"</triples>\\n\")\n",
    "\n"
   ]
  }
 ],
 "metadata": {
  "kernelspec": {
   "display_name": "Python 3.9.12 ('base')",
   "language": "python",
   "name": "python3"
  },
  "language_info": {
   "codemirror_mode": {
    "name": "ipython",
    "version": 3
   },
   "file_extension": ".py",
   "mimetype": "text/x-python",
   "name": "python",
   "nbconvert_exporter": "python",
   "pygments_lexer": "ipython3",
   "version": "3.9.12"
  },
  "orig_nbformat": 4,
  "vscode": {
   "interpreter": {
    "hash": "d075635c49ac9fb9913723b1e0fe7df7567b1c4ee6ede4cef9a7e4fcacf814a5"
   }
  }
 },
 "nbformat": 4,
 "nbformat_minor": 2
}
