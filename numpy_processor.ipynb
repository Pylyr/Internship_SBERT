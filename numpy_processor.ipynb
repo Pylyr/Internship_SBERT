{
 "cells": [
  {
   "cell_type": "code",
   "execution_count": 1,
   "metadata": {},
   "outputs": [
    {
     "name": "stderr",
     "output_type": "stream",
     "text": [
      "/users/daychman/miniconda3/lib/python3.9/site-packages/tqdm/auto.py:22: TqdmWarning: IProgress not found. Please update jupyter and ipywidgets. See https://ipywidgets.readthedocs.io/en/stable/user_install.html\n",
      "  from .autonotebook import tqdm as notebook_tqdm\n"
     ]
    }
   ],
   "source": [
    "import numpy as np\n",
    "import pandas as pd\n",
    "from sentence_transformers import SentenceTransformer"
   ]
  },
  {
   "cell_type": "code",
   "execution_count": 2,
   "metadata": {},
   "outputs": [],
   "source": [
    "file = '/tempo/merged_clean.csv'\n",
    "\n",
    "#convert df into a numpy array\n",
    "df = pd.read_csv(file)\n",
    "\n",
    "# convert the relationships into categories\n",
    "rel_cat = df['Relation'].astype('category')\n",
    "\n",
    "# label each unique value in the column 'Relation' with a number\n",
    "labels = rel_cat.cat.codes.to_numpy()\n",
    "df['Relation'] = labels\n",
    "conversion_dict = np.array(list(enumerate(rel_cat.cat.categories)))\n",
    "\n",
    "unique, count = np.unique(labels, return_counts=True)\n",
    "faulty_labels = unique[count < 50]\n",
    "\n",
    "# get the indices of falty labels\n",
    "faulty_indices = [i for i in range(len(labels)) if labels[i] in faulty_labels]\n",
    "df.drop(faulty_indices, inplace=True)\n"
   ]
  },
  {
   "cell_type": "code",
   "execution_count": 5,
   "metadata": {},
   "outputs": [],
   "source": [
    "df.to_csv('/tempo/df.csv', index=False)"
   ]
  },
  {
   "cell_type": "code",
   "execution_count": 23,
   "metadata": {},
   "outputs": [],
   "source": [
    "model = SentenceTransformer('paraphrase-MiniLM-L6-v2')"
   ]
  },
  {
   "cell_type": "code",
   "execution_count": 51,
   "metadata": {},
   "outputs": [],
   "source": [
    "sentences = df['Sentence'].to_numpy()"
   ]
  },
  {
   "cell_type": "code",
   "execution_count": 52,
   "metadata": {},
   "outputs": [
    {
     "name": "stderr",
     "output_type": "stream",
     "text": [
      "Batches: 100%|██████████| 45008/45008 [2:24:10<00:00,  5.20it/s]  \n"
     ]
    }
   ],
   "source": [
    "embeddings = model.encode(sentences, show_progress_bar=True)"
   ]
  }
 ],
 "metadata": {
  "kernelspec": {
   "display_name": "Python 3.9.12 ('base')",
   "language": "python",
   "name": "python3"
  },
  "language_info": {
   "codemirror_mode": {
    "name": "ipython",
    "version": 3
   },
   "file_extension": ".py",
   "mimetype": "text/x-python",
   "name": "python",
   "nbconvert_exporter": "python",
   "pygments_lexer": "ipython3",
   "version": "3.9.12"
  },
  "orig_nbformat": 4,
  "vscode": {
   "interpreter": {
    "hash": "d075635c49ac9fb9913723b1e0fe7df7567b1c4ee6ede4cef9a7e4fcacf814a5"
   }
  }
 },
 "nbformat": 4,
 "nbformat_minor": 2
}
